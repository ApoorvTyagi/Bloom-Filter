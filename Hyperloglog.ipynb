{
 "cells": [
  {
   "cell_type": "markdown",
   "metadata": {},
   "source": [
    "### Importing hashlib liberary for hasing list items"
   ]
  },
  {
   "cell_type": "code",
   "execution_count": 1,
   "metadata": {},
   "outputs": [],
   "source": [
    "import hashlib "
   ]
  },
  {
   "cell_type": "markdown",
   "metadata": {},
   "source": [
    "### Function to count trialing zeroes in a binary number"
   ]
  },
  {
   "cell_type": "code",
   "execution_count": 2,
   "metadata": {},
   "outputs": [],
   "source": [
    "def trailing_zeroes(value):\n",
    "  if value == 0:\n",
    "    return 256 #Since, we have taken 256 bit integer number\n",
    "  zero = 0\n",
    "  while (value >> zero) & 1 == 0: #Keep right shifting value till the last digit is 0\n",
    "    zero += 1\n",
    "  return zero"
   ]
  },
  {
   "cell_type": "markdown",
   "metadata": {},
   "source": [
    "### Function to estimate the cardinality"
   ]
  },
  {
   "cell_type": "code",
   "execution_count": 3,
   "metadata": {},
   "outputs": [],
   "source": [
    " \"\"\" PARAMETERS :    'values'-List of items whose cardinality we want ; \n",
    "                     'k'-number of leading bits of hashed value we want for determining bucket \"\"\"\n",
    "    \n",
    "def estimate_cardinality(values, k):\n",
    "    num_buckets = 2 ** k\n",
    "    max_zeroes = [0] * num_buckets # list to store maximum zeroes of each bucket\n",
    "\n",
    "    for value in values:\n",
    "        result = hashlib.sha256(str(value).encode()) # we have used hashlib's SHA256 algorithm to get hash which is in hexadecimal\n",
    "        hashed=format(int(result.hexdigest(), 16), \"064b\") # converting hexadecimal to binary\n",
    "        n=hashed[:k] # Picking first k bits\n",
    "        bucket = int(n,2)\n",
    "        max_zeroes[bucket] = max(max_zeroes[bucket], trailing_zeroes(int(hashed)))\n",
    "\n",
    "    return 2 ** (float(sum(max_zeroes)) / num_buckets) * num_buckets * 0.79402"
   ]
  },
  {
   "cell_type": "code",
   "execution_count": 4,
   "metadata": {},
   "outputs": [
    {
     "name": "stdout",
     "output_type": "stream",
     "text": [
      "6.927079599126943\n"
     ]
    }
   ],
   "source": [
    "print(estimate_cardinality([1,2,3,4,5,5,4,3,6], 3)) # 6 unique requests and 2^{3} buckets"
   ]
  }
 ],
 "metadata": {
  "kernelspec": {
   "display_name": "Python 3",
   "language": "python",
   "name": "python3"
  },
  "language_info": {
   "codemirror_mode": {
    "name": "ipython",
    "version": 3
   },
   "file_extension": ".py",
   "mimetype": "text/x-python",
   "name": "python",
   "nbconvert_exporter": "python",
   "pygments_lexer": "ipython3",
   "version": "3.7.0"
  }
 },
 "nbformat": 4,
 "nbformat_minor": 2
}
